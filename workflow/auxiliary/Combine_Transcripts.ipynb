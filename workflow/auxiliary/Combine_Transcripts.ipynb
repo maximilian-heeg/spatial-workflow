{
 "cells": [
  {
   "cell_type": "raw",
   "id": "6ef29de4",
   "metadata": {},
   "source": [
    "---\n",
    "title: Combine with MerFISH\n",
    "description: Merge auxiliary transcripts with the merfish transcripts\n",
    "order: 3\n",
    "date: last-modified\n",
    "author: Maximilian Heeg\n",
    "---"
   ]
  },
  {
   "cell_type": "code",
   "execution_count": 1,
   "id": "e1579fe8-9800-4409-9207-a954b9f13ff3",
   "metadata": {},
   "outputs": [],
   "source": [
    "# Combine the transcripts with the merfish transcripts\n",
    "# this will then be used for baysor"
   ]
  },
  {
   "cell_type": "code",
   "execution_count": 2,
   "id": "7e41ba74-bbe8-4028-a458-c49ef98a1e44",
   "metadata": {},
   "outputs": [],
   "source": [
    "import polars as pl"
   ]
  },
  {
   "cell_type": "code",
   "execution_count": 3,
   "id": "48b68757-b681-4834-9fac-1512bf6bdc20",
   "metadata": {},
   "outputs": [
    {
     "name": "stdout",
     "output_type": "stream",
     "text": [
      "CPU times: user 6.06 s, sys: 1.24 s, total: 7.3 s\n",
      "Wall time: 2.33 s\n"
     ]
    }
   ],
   "source": [
    "%time merfish = pl.read_csv(\"../MERLIN_output/detected_transcripts.csv\")"
   ]
  },
  {
   "cell_type": "code",
   "execution_count": 22,
   "id": "0795c3cf-ccd1-459b-9371-85d3f47cac0e",
   "metadata": {},
   "outputs": [
    {
     "data": {
      "text/plain": [
       "(16296388, 4)"
      ]
     },
     "execution_count": 22,
     "metadata": {},
     "output_type": "execute_result"
    }
   ],
   "source": [
    "merged = merfish[['global_x', 'global_y', 'global_z', 'gene']]\n",
    "merged.shape"
   ]
  },
  {
   "cell_type": "code",
   "execution_count": 23,
   "id": "b8606348-81e8-480f-a217-eed33cf48a26",
   "metadata": {},
   "outputs": [],
   "source": [
    "stains = ['Fabp2',\n",
    "    'Fabp1',\n",
    "    'mt-Nd4l',\n",
    "    'Lyz1',\n",
    "    'B2m']\n",
    "\n",
    "for gene in stains:\n",
    "    auxiliary = pl.read_csv(f\"{gene}.csv\")\n",
    "    auxiliary = auxiliary[['global_x', 'global_y', 'global_z', 'gene']]\n",
    "    merged = pl.concat([merged, auxiliary])"
   ]
  },
  {
   "cell_type": "code",
   "execution_count": 24,
   "id": "a124139c-60d2-42e9-9ca6-102b88158990",
   "metadata": {},
   "outputs": [
    {
     "data": {
      "text/plain": [
       "(17812308, 4)"
      ]
     },
     "execution_count": 24,
     "metadata": {},
     "output_type": "execute_result"
    }
   ],
   "source": [
    "merged.shape"
   ]
  },
  {
   "cell_type": "code",
   "execution_count": 26,
   "id": "2b81aa9b-b3ca-40c8-8d65-48ebe091126c",
   "metadata": {},
   "outputs": [],
   "source": [
    "merged.write_csv(\"all_transcripts.csv\")"
   ]
  },
  {
   "cell_type": "code",
   "execution_count": null,
   "id": "0b2c11de-3ead-4e02-99b7-6a7d3e355289",
   "metadata": {},
   "outputs": [],
   "source": []
  }
 ],
 "metadata": {
  "kernelspec": {
   "display_name": "Python 3 (ipykernel)",
   "language": "python",
   "name": "python3"
  },
  "language_info": {
   "codemirror_mode": {
    "name": "ipython",
    "version": 3
   },
   "file_extension": ".py",
   "mimetype": "text/x-python",
   "name": "python",
   "nbconvert_exporter": "python",
   "pygments_lexer": "ipython3",
   "version": "3.8.13"
  }
 },
 "nbformat": 4,
 "nbformat_minor": 5
}
