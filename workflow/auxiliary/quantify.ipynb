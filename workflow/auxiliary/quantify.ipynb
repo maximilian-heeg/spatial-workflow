{
 "cells": [
  {
   "cell_type": "raw",
   "id": "7f651a61",
   "metadata": {},
   "source": [
    "---\n",
    "title: Quantification\n",
    "description: Detect the transcripts using tophat and LOG.\n",
    "order: 1\n",
    "date: last-modified\n",
    "author: Maximilian Heeg\n",
    "---"
   ]
  },
  {
   "cell_type": "code",
   "execution_count": 1,
   "id": "33a69235-6aae-46dc-9ce0-cd353f698bbc",
   "metadata": {},
   "outputs": [],
   "source": [
    "# # Let's set up a cluster \n",
    "# from dask_jobqueue import PBSCluster\n",
    "# cluster = PBSCluster(\n",
    "#     queue='condo',\n",
    "#     shebang='#!/bin/bash', \n",
    "#     cores=3,\n",
    "#     memory=\"80 GB\",\n",
    "#     resource_spec='nodes=1:ppn=16',\n",
    "#     walltime = \"2:00:00\"\n",
    "# )\n",
    "# cluster.scale(jobs=10)"
   ]
  },
  {
   "cell_type": "code",
   "execution_count": 2,
   "id": "08ecc57c-ab9b-4441-baca-67ba674c47ec",
   "metadata": {},
   "outputs": [],
   "source": [
    "# from dask.distributed import Client\n",
    "# client = Client(cluster)\n",
    "# client"
   ]
  },
  {
   "cell_type": "code",
   "execution_count": 3,
   "id": "599f90a7-61a2-4445-95e9-2e1d0f9921a5",
   "metadata": {},
   "outputs": [],
   "source": [
    "# import socket\n",
    "# hostname = socket.gethostname()\n",
    "# ## getting the IP address using socket.gethostbyname() method\n",
    "# ip_address = socket.gethostbyname(hostname)\n",
    "# ## printing the hostname and ip_address\n",
    "# print(f\"Hostname: {hostname}\")\n",
    "# print(f\"IP Address: {ip_address}\")"
   ]
  },
  {
   "cell_type": "code",
   "execution_count": 4,
   "id": "041900f2-8696-4cae-ba48-f878a0e2a696",
   "metadata": {},
   "outputs": [],
   "source": [
    "# from dask.distributed import Client, LocalCluster\n",
    "# cluster = LocalCluster(dashboard_address=f\"{ip_address}:8787\", host=ip_address)\n",
    "# client = Client(cluster)\n",
    "# client"
   ]
  },
  {
   "cell_type": "code",
   "execution_count": 5,
   "id": "87c1df2c-324b-4d84-9b85-139c3007814e",
   "metadata": {},
   "outputs": [],
   "source": [
    "# now run all the calculations"
   ]
  },
  {
   "cell_type": "code",
   "execution_count": 6,
   "id": "ef1168f6-d90e-424f-a0be-6cd0c2e60f8e",
   "metadata": {},
   "outputs": [],
   "source": [
    "import auxiliary\n",
    "import pandas as pd"
   ]
  },
  {
   "cell_type": "code",
   "execution_count": 7,
   "id": "e214d0a7-555e-402f-bca1-84331824462e",
   "metadata": {},
   "outputs": [],
   "source": [
    "def quanify_auxiliary(gene, img, threshold):\n",
    "    # loop through layers sequentially to reduce memory footprint\n",
    "    layers=[0,1,2,3,4,5,6]\n",
    "    res = dict()\n",
    "    for l in layers:\n",
    "        imgs = auxiliary.read.stack(\n",
    "            name = img,\n",
    "            layers=[l], \n",
    "            verbose=True\n",
    "        )\n",
    "        tophats = auxiliary.process.tophat(imgs, size=5, verbose=True)\n",
    "        blobs = auxiliary.process.blob(\n",
    "            tophats, \n",
    "            threshold=threshold, \n",
    "            verbose=True\n",
    "        )\n",
    "        res.update(blobs)\n",
    "        \n",
    "    df = auxiliary.process.blobsToPandas(res, gene, '../MERLIN_output/images/micron_to_mosaic_pixel_transform.csv')\n",
    "    df.to_csv(f\"{gene}.csv\")"
   ]
  },
  {
   "cell_type": "code",
   "execution_count": 8,
   "id": "4f88e4b7-6e34-47a3-9713-663416f843fb",
   "metadata": {},
   "outputs": [],
   "source": [
    "# create a dict:\n",
    "# key : gene\n",
    "# value : config\n",
    "\n",
    "#\n",
    "\n",
    "stains = {\n",
    "    'Fabp2': {\n",
    "        'img': \"../MERLIN_output/pictures/pyrmosaic_Fabp2_z%i.tif\",\n",
    "        'threshold': 0.05\n",
    "    },\n",
    "    'Fabp1': {\n",
    "        'img': \"../MERLIN_output/pictures/pyrmosaic_Fabp1_z%i.tif\",\n",
    "        'threshold': 0.05\n",
    "    },\n",
    "    'mt-Nd4l': {\n",
    "        'img': \"../MERLIN_output/pictures/pyrmosaic_mt-Nd4l_z%i.tif\",\n",
    "        'threshold': 0.05\n",
    "    },\n",
    "    'Lyz1': {\n",
    "        'img': \"../MERLIN_output/pictures/pyrmosaic_Lyz1_z%i.tif\",\n",
    "        'threshold': 0.05\n",
    "    },\n",
    "    'B2m': {\n",
    "        'img': \"../MERLIN_output/pictures/pyrmosaic_B2m_z%i.tif\",\n",
    "        'threshold': 0.05\n",
    "    },   \n",
    "}"
   ]
  },
  {
   "cell_type": "code",
   "execution_count": null,
   "id": "b4edff71-0a8d-4c27-9791-ae7a4638cc47",
   "metadata": {},
   "outputs": [
    {
     "name": "stderr",
     "output_type": "stream",
     "text": [
      "Shaped series: series shape does not match page shape\n"
     ]
    },
    {
     "name": "stdout",
     "output_type": "stream",
     "text": [
      "Import file \"../MERLIN_output/pictures/pyrmosaic_Fabp2_z0.tif\"\n"
     ]
    },
    {
     "name": "stderr",
     "output_type": "stream",
     "text": [
      "Shaped series: series shape does not match page shape\n"
     ]
    },
    {
     "name": "stdout",
     "output_type": "stream",
     "text": [
      "Import file \"../MERLIN_output/pictures/pyrmosaic_Fabp2_z1.tif\"\n"
     ]
    },
    {
     "name": "stderr",
     "output_type": "stream",
     "text": [
      "Shaped series: series shape does not match page shape\n"
     ]
    },
    {
     "name": "stdout",
     "output_type": "stream",
     "text": [
      "Import file \"../MERLIN_output/pictures/pyrmosaic_Fabp2_z2.tif\"\n"
     ]
    },
    {
     "name": "stderr",
     "output_type": "stream",
     "text": [
      "Shaped series: series shape does not match page shape\n"
     ]
    },
    {
     "name": "stdout",
     "output_type": "stream",
     "text": [
      "Import file \"../MERLIN_output/pictures/pyrmosaic_Fabp2_z3.tif\"\n"
     ]
    },
    {
     "name": "stderr",
     "output_type": "stream",
     "text": [
      "Shaped series: series shape does not match page shape\n"
     ]
    },
    {
     "name": "stdout",
     "output_type": "stream",
     "text": [
      "Import file \"../MERLIN_output/pictures/pyrmosaic_Fabp2_z4.tif\"\n"
     ]
    },
    {
     "name": "stderr",
     "output_type": "stream",
     "text": [
      "Shaped series: series shape does not match page shape\n"
     ]
    },
    {
     "name": "stdout",
     "output_type": "stream",
     "text": [
      "Import file \"../MERLIN_output/pictures/pyrmosaic_Fabp2_z5.tif\"\n"
     ]
    },
    {
     "name": "stderr",
     "output_type": "stream",
     "text": [
      "Shaped series: series shape does not match page shape\n"
     ]
    },
    {
     "name": "stdout",
     "output_type": "stream",
     "text": [
      "Import file \"../MERLIN_output/pictures/pyrmosaic_Fabp2_z6.tif\"\n",
      "Running Tophat\n",
      "Working on layer \"0\"\n",
      "[########################################] | 100% Completed | 39.7s\n",
      "Working on layer \"1\"\n",
      "[########################################] | 100% Completed | 39.7s\n",
      "Working on layer \"2\"\n",
      "[########################################] | 100% Completed | 39.7s\n",
      "Working on layer \"3\"\n",
      "[########################################] | 100% Completed | 40.0s\n",
      "Working on layer \"4\"\n",
      "[########################################] | 100% Completed | 40.0s\n",
      "Working on layer \"5\"\n",
      "[########################################] | 100% Completed | 39.7s\n",
      "Working on layer \"6\"\n",
      "[########################################] | 100% Completed | 39.9s\n",
      "Starting Blob detection\n",
      "Working on layer \"0\"\n",
      "... Creating dask delayed array\n",
      "... Computing dask delayed array\n",
      "[########################################] | 100% Completed |  2min 33.2s\n",
      "Working on layer \"1\"\n",
      "... Creating dask delayed array\n",
      "... Computing dask delayed array\n",
      "[######################################  ] | 97% Completed |  2min 27.6s"
     ]
    }
   ],
   "source": [
    "# loop through stains\n",
    "for gene, config in stains.items():\n",
    "    quanify_auxiliary(\n",
    "        gene = gene,\n",
    "        img = config['img'],\n",
    "        threshold = config['threshold']\n",
    "    )"
   ]
  },
  {
   "cell_type": "code",
   "execution_count": null,
   "id": "73503015-e6c1-4eff-a9e6-a322b33bab81",
   "metadata": {},
   "outputs": [],
   "source": []
  },
  {
   "cell_type": "code",
   "execution_count": null,
   "id": "d17bf1b4-3ceb-487a-99dc-874feab78946",
   "metadata": {},
   "outputs": [],
   "source": []
  }
 ],
 "metadata": {
  "kernelspec": {
   "display_name": "Python 3 (ipykernel)",
   "language": "python",
   "name": "python3"
  },
  "language_info": {
   "codemirror_mode": {
    "name": "ipython",
    "version": 3
   },
   "file_extension": ".py",
   "mimetype": "text/x-python",
   "name": "python",
   "nbconvert_exporter": "python",
   "pygments_lexer": "ipython3",
   "version": "3.8.13"
  }
 },
 "nbformat": 4,
 "nbformat_minor": 5
}
