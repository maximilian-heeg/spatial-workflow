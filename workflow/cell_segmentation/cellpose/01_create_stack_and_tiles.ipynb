{
 "cells": [
  {
   "cell_type": "raw",
   "metadata": {},
   "source": [
    "---\n",
    "title: Prepare the images\n",
    "descriptions: Stack the different layers from the segmentation images into on big TIFF file that can be used for cellpose.\n",
    "order: 1\n",
    "output-file: create_stack\n",
    "\n",
    "---"
   ]
  },
  {
   "cell_type": "code",
   "execution_count": 3,
   "metadata": {},
   "outputs": [],
   "source": [
    "import glob\n",
    "import tifffile\n",
    "import numpy as np\n",
    "from skimage.transform import resize"
   ]
  },
  {
   "cell_type": "code",
   "execution_count": 68,
   "metadata": {},
   "outputs": [
    {
     "name": "stderr",
     "output_type": "stream",
     "text": [
      "Shaped series: series shape does not match page shape\n"
     ]
    },
    {
     "name": "stdout",
     "output_type": "stream",
     "text": [
      "Imporint layres for \"pyrmosaic_PolyT\"\n",
      "... Reading \"../raw_data/pictures/pyrmosaic_PolyT_z0.tif\"\n"
     ]
    },
    {
     "name": "stderr",
     "output_type": "stream",
     "text": [
      "Shaped series: series shape does not match page shape\n"
     ]
    },
    {
     "name": "stdout",
     "output_type": "stream",
     "text": [
      "... Reading \"../raw_data/pictures/pyrmosaic_PolyT_z1.tif\"\n"
     ]
    },
    {
     "name": "stderr",
     "output_type": "stream",
     "text": [
      "Shaped series: series shape does not match page shape\n"
     ]
    },
    {
     "name": "stdout",
     "output_type": "stream",
     "text": [
      "... Reading \"../raw_data/pictures/pyrmosaic_PolyT_z2.tif\"\n"
     ]
    },
    {
     "name": "stderr",
     "output_type": "stream",
     "text": [
      "Shaped series: series shape does not match page shape\n"
     ]
    },
    {
     "name": "stdout",
     "output_type": "stream",
     "text": [
      "... Reading \"../raw_data/pictures/pyrmosaic_PolyT_z3.tif\"\n"
     ]
    },
    {
     "name": "stderr",
     "output_type": "stream",
     "text": [
      "Shaped series: series shape does not match page shape\n"
     ]
    },
    {
     "name": "stdout",
     "output_type": "stream",
     "text": [
      "... Reading \"../raw_data/pictures/pyrmosaic_PolyT_z4.tif\"\n"
     ]
    },
    {
     "name": "stderr",
     "output_type": "stream",
     "text": [
      "Shaped series: series shape does not match page shape\n"
     ]
    },
    {
     "name": "stdout",
     "output_type": "stream",
     "text": [
      "... Reading \"../raw_data/pictures/pyrmosaic_PolyT_z5.tif\"\n"
     ]
    },
    {
     "name": "stderr",
     "output_type": "stream",
     "text": [
      "Shaped series: series shape does not match page shape\n"
     ]
    },
    {
     "name": "stdout",
     "output_type": "stream",
     "text": [
      "... Reading \"../raw_data/pictures/pyrmosaic_PolyT_z6.tif\"\n",
      "... stacking\n"
     ]
    },
    {
     "name": "stderr",
     "output_type": "stream",
     "text": [
      "Shaped series: series shape does not match page shape\n"
     ]
    },
    {
     "name": "stdout",
     "output_type": "stream",
     "text": [
      "Imporint layres for \"pyrmosaic_Cellbound2\"\n",
      "... Reading \"../raw_data/pictures/pyrmosaic_Cellbound2_z0.tif\"\n"
     ]
    },
    {
     "name": "stderr",
     "output_type": "stream",
     "text": [
      "Shaped series: series shape does not match page shape\n"
     ]
    },
    {
     "name": "stdout",
     "output_type": "stream",
     "text": [
      "... Reading \"../raw_data/pictures/pyrmosaic_Cellbound2_z1.tif\"\n"
     ]
    },
    {
     "name": "stderr",
     "output_type": "stream",
     "text": [
      "Shaped series: series shape does not match page shape\n"
     ]
    },
    {
     "name": "stdout",
     "output_type": "stream",
     "text": [
      "... Reading \"../raw_data/pictures/pyrmosaic_Cellbound2_z2.tif\"\n"
     ]
    },
    {
     "name": "stderr",
     "output_type": "stream",
     "text": [
      "Shaped series: series shape does not match page shape\n"
     ]
    },
    {
     "name": "stdout",
     "output_type": "stream",
     "text": [
      "... Reading \"../raw_data/pictures/pyrmosaic_Cellbound2_z3.tif\"\n",
      "... Reading \"../raw_data/pictures/pyrmosaic_Cellbound2_z4.tif\"\n"
     ]
    },
    {
     "name": "stderr",
     "output_type": "stream",
     "text": [
      "Shaped series: series shape does not match page shape\n",
      "Shaped series: series shape does not match page shape\n"
     ]
    },
    {
     "name": "stdout",
     "output_type": "stream",
     "text": [
      "... Reading \"../raw_data/pictures/pyrmosaic_Cellbound2_z5.tif\"\n"
     ]
    },
    {
     "name": "stderr",
     "output_type": "stream",
     "text": [
      "Shaped series: series shape does not match page shape\n"
     ]
    },
    {
     "name": "stdout",
     "output_type": "stream",
     "text": [
      "... Reading \"../raw_data/pictures/pyrmosaic_Cellbound2_z6.tif\"\n",
      "... stacking\n"
     ]
    }
   ],
   "source": [
    "def import_layer(layer, scale=10, verbose=False):\n",
    "    \"\"\" Import all images from that layer and stack them\n",
    "    \n",
    "    Parameters\n",
    "    --------------\n",
    "    layer: name of the layer, e.g. pyrmosaic_PolyT\n",
    "    scale: factor by which the image should be resized\n",
    "    \n",
    "    Returns\n",
    "    --------------\n",
    "    A np array of shape (Z x Y x X)\n",
    "    \n",
    "    \"\"\"\n",
    "    \n",
    "    if verbose: print(f\"Import layers for \\\"{layer}\\\"\")\n",
    "    # get all files that match the pattern\n",
    "    files = glob.glob(\"../raw_data/pictures/\" + layer + \"_z[0-9].tif\")\n",
    "    files.sort()\n",
    "    # import the files and subset, scale=10 -> at 10th of the initial size\n",
    "    imgs = []\n",
    "    for f in files:\n",
    "        if verbose: print(f\"... Reading \\\"{f}\\\"\")\n",
    "        img = tifffile.imread(f)\n",
    "        if scale > 1:\n",
    "            # s = np.array(img.shape)\n",
    "            # if verbose: print(f\"... ... initial size {s}\")\n",
    "            # s = np.round(s / scale) \n",
    "            # if verbose: print(f\"... ... new size {s}\")\n",
    "            # img = resize(img, s).astype(np.int8)\n",
    "            # if verbose: print(f\"... ... done {s}\")\n",
    "            img = img[::scale, ::scale].copy()\n",
    "        imgs.append(img)\n",
    "    if verbose: print(f\"... stacking\")\n",
    "    imgs = np.stack(imgs, axis=0)\n",
    "    return imgs\n",
    "\n",
    "\n",
    "polyT = import_layer(\"pyrmosaic_PolyT\", scale=3, verbose=True)\n",
    "cell2 = import_layer(\"pyrmosaic_Cellbound2\", scale=3, verbose=True)"
   ]
  },
  {
   "cell_type": "code",
   "execution_count": 69,
   "metadata": {},
   "outputs": [],
   "source": [
    "stack = np.stack([cell2, polyT], 1)"
   ]
  },
  {
   "cell_type": "code",
   "execution_count": 70,
   "metadata": {},
   "outputs": [],
   "source": [
    "with tifffile.TiffWriter('scratch/full_stack.tif',  bigtiff=True) as tif:\n",
    "    tif.save(stack)"
   ]
  },
  {
   "cell_type": "code",
   "execution_count": 71,
   "metadata": {
    "scrolled": true,
    "tags": []
   },
   "outputs": [
    {
     "name": "stdout",
     "output_type": "stream",
     "text": [
      "Saving tile x:0 y:0\n",
      "Saving tile x:0 y:1\n",
      "Saving tile x:0 y:2\n",
      "Saving tile x:0 y:3\n",
      "Saving tile x:0 y:4\n",
      "Saving tile x:0 y:5\n",
      "Saving tile x:0 y:6\n",
      "Saving tile x:0 y:7\n",
      "Saving tile x:0 y:8\n",
      "Saving tile x:0 y:9\n",
      "Saving tile x:0 y:10\n",
      "Saving tile x:0 y:11\n",
      "Saving tile x:1 y:0\n",
      "Saving tile x:1 y:1\n",
      "Saving tile x:1 y:2\n",
      "Saving tile x:1 y:3\n",
      "Saving tile x:1 y:4\n",
      "Saving tile x:1 y:5\n",
      "Saving tile x:1 y:6\n",
      "Saving tile x:1 y:7\n",
      "Saving tile x:1 y:8\n",
      "Saving tile x:1 y:9\n",
      "Saving tile x:1 y:10\n",
      "Saving tile x:1 y:11\n",
      "Saving tile x:2 y:0\n",
      "Saving tile x:2 y:1\n",
      "Saving tile x:2 y:2\n",
      "Saving tile x:2 y:3\n",
      "Saving tile x:2 y:4\n",
      "Saving tile x:2 y:5\n",
      "Saving tile x:2 y:6\n",
      "Saving tile x:2 y:7\n",
      "Saving tile x:2 y:8\n",
      "Saving tile x:2 y:9\n",
      "Saving tile x:2 y:10\n",
      "Saving tile x:2 y:11\n",
      "Saving tile x:3 y:0\n",
      "Saving tile x:3 y:1\n",
      "Saving tile x:3 y:2\n",
      "Saving tile x:3 y:3\n",
      "Saving tile x:3 y:4\n",
      "Saving tile x:3 y:5\n",
      "Saving tile x:3 y:6\n",
      "Saving tile x:3 y:7\n",
      "Saving tile x:3 y:8\n",
      "Saving tile x:3 y:9\n",
      "Saving tile x:3 y:10\n",
      "Saving tile x:3 y:11\n",
      "Saving tile x:4 y:0\n",
      "Saving tile x:4 y:1\n",
      "Saving tile x:4 y:2\n",
      "Saving tile x:4 y:3\n",
      "Saving tile x:4 y:4\n",
      "Saving tile x:4 y:5\n",
      "Saving tile x:4 y:6\n",
      "Saving tile x:4 y:7\n",
      "Saving tile x:4 y:8\n",
      "Saving tile x:4 y:9\n",
      "Saving tile x:4 y:10\n",
      "Saving tile x:4 y:11\n",
      "Saving tile x:5 y:0\n",
      "Saving tile x:5 y:1\n",
      "Saving tile x:5 y:2\n",
      "Saving tile x:5 y:3\n",
      "Saving tile x:5 y:4\n",
      "Saving tile x:5 y:5\n",
      "Saving tile x:5 y:6\n",
      "Saving tile x:5 y:7\n",
      "Saving tile x:5 y:8\n",
      "Saving tile x:5 y:9\n",
      "Saving tile x:5 y:10\n",
      "Saving tile x:5 y:11\n",
      "Saving tile x:6 y:0\n",
      "Saving tile x:6 y:1\n",
      "Saving tile x:6 y:2\n",
      "Saving tile x:6 y:3\n",
      "Saving tile x:6 y:4\n",
      "Saving tile x:6 y:5\n",
      "Saving tile x:6 y:6\n",
      "Saving tile x:6 y:7\n",
      "Saving tile x:6 y:8\n",
      "Saving tile x:6 y:9\n",
      "Saving tile x:6 y:10\n",
      "Saving tile x:6 y:11\n",
      "Saving tile x:7 y:0\n",
      "Saving tile x:7 y:1\n",
      "Saving tile x:7 y:2\n",
      "Saving tile x:7 y:3\n",
      "Saving tile x:7 y:4\n",
      "Saving tile x:7 y:5\n",
      "Saving tile x:7 y:6\n",
      "Saving tile x:7 y:7\n",
      "Saving tile x:7 y:8\n",
      "Saving tile x:7 y:9\n",
      "Saving tile x:7 y:10\n",
      "Saving tile x:7 y:11\n",
      "Saving tile x:8 y:0\n",
      "Saving tile x:8 y:1\n",
      "Saving tile x:8 y:2\n",
      "Saving tile x:8 y:3\n",
      "Saving tile x:8 y:4\n",
      "Saving tile x:8 y:5\n",
      "Saving tile x:8 y:6\n",
      "Saving tile x:8 y:7\n",
      "Saving tile x:8 y:8\n",
      "Saving tile x:8 y:9\n",
      "Saving tile x:8 y:10\n",
      "Saving tile x:8 y:11\n",
      "Saving tile x:9 y:0\n",
      "Saving tile x:9 y:1\n",
      "Saving tile x:9 y:2\n",
      "Saving tile x:9 y:3\n",
      "Saving tile x:9 y:4\n",
      "Saving tile x:9 y:5\n",
      "Saving tile x:9 y:6\n",
      "Saving tile x:9 y:7\n",
      "Saving tile x:9 y:8\n",
      "Saving tile x:9 y:9\n",
      "Saving tile x:9 y:10\n",
      "Saving tile x:9 y:11\n",
      "Saving tile x:10 y:0\n",
      "Saving tile x:10 y:1\n",
      "Saving tile x:10 y:2\n",
      "Saving tile x:10 y:3\n",
      "Saving tile x:10 y:4\n",
      "Saving tile x:10 y:5\n",
      "Saving tile x:10 y:6\n",
      "Saving tile x:10 y:7\n",
      "Saving tile x:10 y:8\n",
      "Saving tile x:10 y:9\n",
      "Saving tile x:10 y:10\n",
      "Saving tile x:10 y:11\n",
      "Saving tile x:11 y:0\n",
      "Saving tile x:11 y:1\n",
      "Saving tile x:11 y:2\n",
      "Saving tile x:11 y:3\n",
      "Saving tile x:11 y:4\n",
      "Saving tile x:11 y:5\n",
      "Saving tile x:11 y:6\n",
      "Saving tile x:11 y:7\n",
      "Saving tile x:11 y:8\n",
      "Saving tile x:11 y:9\n",
      "Saving tile x:11 y:10\n",
      "Saving tile x:11 y:11\n"
     ]
    }
   ],
   "source": [
    "def tile_img(img, tiles=2):\n",
    "    res = np.array_split(img, tiles, axis=2)\n",
    "    res = [np.array_split(t, tiles, axis=3) for t in res]\n",
    "\n",
    "    for x in range(len(res)):\n",
    "        for y in range(len(res[x])):\n",
    "            print(f\"Saving tile x:{x} y:{y}\")\n",
    "            with tifffile.TiffWriter(f\"scratch/tiles/tile_{x}_{y}.tif\") as tif:\n",
    "                tif.save(res[x][y])\n",
    "\n",
    "\n",
    "tile_img(stack, tiles=12)\n"
   ]
  },
  {
   "cell_type": "code",
   "execution_count": 72,
   "metadata": {},
   "outputs": [
    {
     "data": {
      "text/plain": [
       "(7, 2, 21673, 19821)"
      ]
     },
     "execution_count": 72,
     "metadata": {},
     "output_type": "execute_result"
    }
   ],
   "source": [
    "stack.shape"
   ]
  },
  {
   "cell_type": "code",
   "execution_count": null,
   "metadata": {},
   "outputs": [],
   "source": []
  }
 ],
 "metadata": {
  "kernelspec": {
   "display_name": "Python 3 (ipykernel)",
   "language": "python",
   "name": "python3"
  },
  "language_info": {
   "codemirror_mode": {
    "name": "ipython",
    "version": 3
   },
   "file_extension": ".py",
   "mimetype": "text/x-python",
   "name": "python",
   "nbconvert_exporter": "python",
   "pygments_lexer": "ipython3",
   "version": "3.8.13"
  },
  "vscode": {
   "interpreter": {
    "hash": "b9a98898c59145cd080f51b3b6ff955dbb5f8508820f7abd9323acdcbdd2086f"
   }
  }
 },
 "nbformat": 4,
 "nbformat_minor": 4
}
