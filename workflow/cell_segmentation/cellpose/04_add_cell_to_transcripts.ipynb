{
 "cells": [
  {
   "attachments": {},
   "cell_type": "raw",
   "id": "4a0ee66a",
   "metadata": {},
   "source": [
    "---\n",
    "title: Assing transcripts to cells\n",
    "description: Use the segmentation mask and assign the transcripts from MerFISH and auxiliary staining to cells.\n",
    "output-file: assing_transcripts_to_cell\n",
    "order: 4\n",
    "date: last-modified\n",
    "author: Maximilian Heeg\n",
    "---"
   ]
  },
  {
   "attachments": {},
   "cell_type": "markdown",
   "id": "5681d506-6da9-425d-b57b-eaefd03675ef",
   "metadata": {},
   "source": [
    "\n",
    "\n",
    "In this notebook we will add the information from the cell segmentation to the transcripts.\n",
    "\n",
    "With the MERSCOPE output we got a CSV called `detected_transcripts.csv` with the genes, x, y and z postitions.\n",
    "\n",
    "In addition to that, we have quanitfied the auxiliary stains and merged the two transcripts files\n",
    "\n",
    "We will import that file and check for each transcript, if it is in a cell, as detected by `cellpose`"
   ]
  },
  {
   "cell_type": "code",
   "execution_count": 1,
   "id": "7ac1b6fb-dbcf-454f-9b43-48f5bcdb4229",
   "metadata": {},
   "outputs": [
    {
     "name": "stdout",
     "output_type": "stream",
     "text": [
      "global_x   global_y   global_z  gene\n",
      "3822.614   134.60324  4.0       Pycr1\n",
      "3865.5085  89.455734  5.0       Slc7a11\n",
      "3972.9065  163.4522   6.0       Cxcr3\n",
      "3968.8958  33.91168   0.0       Ldhb\n",
      "3814.5425  132.51677  0.0       Blank-42\n",
      "3664.2427  184.7953   4.0       Slc2a2\n",
      "3797.8604  28.676212  0.0       Ets1\n",
      "3687.2493  154.53114  1.0       Cxcr3\n",
      "3635.9307  184.15593  2.0       Cxcr3\n"
     ]
    }
   ],
   "source": [
    "!head ../auxiliary/all_transcripts.csv | column -t -s, | cat"
   ]
  },
  {
   "cell_type": "markdown",
   "id": "39b6a74d-7986-45cd-87cf-a716a17eb652",
   "metadata": {},
   "source": [
    "There are a few caveats to this. We need to adjust the scace / pixel ratio.  The information is stored in `micron_to_mosaic_pixel_transform.csv`, which is also found in the MERSCOPE output. There once again, is no good documentation about the file, but I assusme that the first two values are the scaling for x and y and the third is for z"
   ]
  },
  {
   "cell_type": "code",
   "execution_count": 2,
   "id": "ee47cc2d-477f-486e-8b35-fa66155bc727",
   "metadata": {},
   "outputs": [
    {
     "name": "stdout",
     "output_type": "stream",
     "text": [
      "\u001b[38;5;238m───────┬────────────────────────────────────────────────────────────────────────\u001b[0m\n",
      "       \u001b[38;5;238m│ \u001b[0mFile: \u001b[1m../MERLIN_output/pictures/micron_to_mosaic_pixel_transform.csv\u001b[0m\n",
      "\u001b[38;5;238m───────┼────────────────────────────────────────────────────────────────────────\u001b[0m\n",
      "\u001b[38;5;238m   1\u001b[0m   \u001b[38;5;238m│\u001b[0m \u001b[38;5;149m9.259414672851562500e+00 0.000000000000000000e+00 -0.000000000000000000\u001b[0m\n",
      "\u001b[38;5;238m    \u001b[0m   \u001b[38;5;238m│\u001b[0m \u001b[38;5;149me+00\u001b[0m\n",
      "\u001b[38;5;238m   2\u001b[0m   \u001b[38;5;238m│\u001b[0m \u001b[38;5;149m0.000000000000000000e+00 9.259401321411132812e+00 -0.000000000000000000\u001b[0m\n",
      "\u001b[38;5;238m    \u001b[0m   \u001b[38;5;238m│\u001b[0m \u001b[38;5;149me+00\u001b[0m\n",
      "\u001b[38;5;238m   3\u001b[0m   \u001b[38;5;238m│\u001b[0m \u001b[38;5;149m0.000000000000000000e+00 0.000000000000000000e+00 1.000000000000000000e\u001b[0m\n",
      "\u001b[38;5;238m    \u001b[0m   \u001b[38;5;238m│\u001b[0m \u001b[38;5;149m+00\u001b[0m\n",
      "\u001b[38;5;238m───────┴────────────────────────────────────────────────────────────────────────\u001b[0m\n"
     ]
    }
   ],
   "source": [
    "!bat ../MERLIN_output/pictures/micron_to_mosaic_pixel_transform.csv"
   ]
  },
  {
   "cell_type": "markdown",
   "id": "90576f33-19a2-48ed-9b5f-3b61a8757e0a",
   "metadata": {},
   "source": [
    "However, we need to keep in mind that we downsampled the image in order to run cellpose. We need to take that into account. We will calculte the scaling factors first."
   ]
  },
  {
   "cell_type": "code",
   "execution_count": null,
   "id": "52e83667-7af6-4798-a790-425f87d32231",
   "metadata": {},
   "outputs": [],
   "source": [
    "# import the libraries\n",
    "import tifffile\n",
    "import pandas as pd\n",
    "import numpy as np"
   ]
  },
  {
   "cell_type": "code",
   "execution_count": null,
   "id": "83423c1f-07be-4900-809c-a1a0439689e8",
   "metadata": {},
   "outputs": [],
   "source": [
    "# # the get the size of the original image, we can take any of the images\n",
    "# # they are all the same size\n",
    "# size_original_image = tifffile.imread(\"../Merlin_output/images/mosaic_Cellbound2_z0.tif\").shape\n",
    "# size_original_image"
   ]
  },
  {
   "cell_type": "code",
   "execution_count": null,
   "id": "4c408032-86ef-4e1b-aab7-94dc0358fcab",
   "metadata": {},
   "outputs": [],
   "source": [
    "# # rescaled image\n",
    "# size_rescaled_image = tifffile.imread(\"image/full_stack.tif\").shape\n",
    "# # since this is the stacked image, we dont need to keep all dimensions.\n",
    "# size_rescaled_image = size_rescaled_image[2:4]\n",
    "# size_rescaled_image"
   ]
  },
  {
   "cell_type": "code",
   "execution_count": null,
   "id": "391aa931-d402-4694-8b99-3cb0622a1361",
   "metadata": {},
   "outputs": [],
   "source": [
    "# mmpt = pd.read_csv(\n",
    "#     \"../Merlin_output/images/micron_to_mosaic_pixel_transform.csv\", \n",
    "#     header=None, \n",
    "#     sep=' '\n",
    "# )\n",
    "# mmpt = np.array(mmpt)\n",
    "# mmpt"
   ]
  },
  {
   "cell_type": "markdown",
   "id": "7e57b8ef-d44d-4c5c-b155-734049d39a1f",
   "metadata": {},
   "source": [
    "There is obivously no documentation about the \"transformation matrix\" but but inspecting the values I assume the follwoing:\n",
    "- The diagonal in the scaling.\n",
    "- the values [0,2] and [1,2] are the offset?"
   ]
  },
  {
   "cell_type": "code",
   "execution_count": null,
   "id": "be70474e-3933-459b-bf1e-43a0f3033b83",
   "metadata": {},
   "outputs": [],
   "source": [
    "# scale_y = size_original_image[0] / size_rescaled_image[0]\n",
    "# scale_x = size_original_image[1] / size_rescaled_image[1]\n",
    "# scale_y, scale_x\n",
    "\n",
    "# rescale = np.array([scale_x, scale_y, 1])\n",
    "# rescale"
   ]
  },
  {
   "cell_type": "markdown",
   "id": "82dd6a9c-842c-4b56-8a05-550f4ee2cf75",
   "metadata": {},
   "source": [
    "Now, that we have the scaling factors, we can import the transcripts table."
   ]
  },
  {
   "cell_type": "code",
   "execution_count": null,
   "id": "d0df0703-3820-4bc8-9a74-8e9aab9e1d15",
   "metadata": {},
   "outputs": [
    {
     "data": {
      "text/html": [
       "<div>\n",
       "<style scoped>\n",
       "    .dataframe tbody tr th:only-of-type {\n",
       "        vertical-align: middle;\n",
       "    }\n",
       "\n",
       "    .dataframe tbody tr th {\n",
       "        vertical-align: top;\n",
       "    }\n",
       "\n",
       "    .dataframe thead th {\n",
       "        text-align: right;\n",
       "    }\n",
       "</style>\n",
       "<table border=\"1\" class=\"dataframe\">\n",
       "  <thead>\n",
       "    <tr style=\"text-align: right;\">\n",
       "      <th></th>\n",
       "      <th>Unnamed: 0</th>\n",
       "      <th>barcode_id</th>\n",
       "      <th>global_x</th>\n",
       "      <th>global_y</th>\n",
       "      <th>global_z</th>\n",
       "      <th>x</th>\n",
       "      <th>y</th>\n",
       "      <th>fov</th>\n",
       "      <th>gene</th>\n",
       "      <th>transcript_id</th>\n",
       "    </tr>\n",
       "  </thead>\n",
       "  <tbody>\n",
       "    <tr>\n",
       "      <th>0</th>\n",
       "      <td>76052</td>\n",
       "      <td>29</td>\n",
       "      <td>4811.931152</td>\n",
       "      <td>133.306046</td>\n",
       "      <td>1.0</td>\n",
       "      <td>106.918274</td>\n",
       "      <td>1234.315186</td>\n",
       "      <td>0</td>\n",
       "      <td>Ctcf</td>\n",
       "      <td>ENSMUST00000005841</td>\n",
       "    </tr>\n",
       "    <tr>\n",
       "      <th>1</th>\n",
       "      <td>578964</td>\n",
       "      <td>170</td>\n",
       "      <td>4873.683594</td>\n",
       "      <td>128.109299</td>\n",
       "      <td>3.0</td>\n",
       "      <td>678.702148</td>\n",
       "      <td>1186.197266</td>\n",
       "      <td>0</td>\n",
       "      <td>Ets1</td>\n",
       "      <td>ENSMUST00000034534</td>\n",
       "    </tr>\n",
       "    <tr>\n",
       "      <th>2</th>\n",
       "      <td>663018</td>\n",
       "      <td>194</td>\n",
       "      <td>4963.922363</td>\n",
       "      <td>117.802322</td>\n",
       "      <td>0.0</td>\n",
       "      <td>1514.247681</td>\n",
       "      <td>1090.762207</td>\n",
       "      <td>0</td>\n",
       "      <td>Prdm1</td>\n",
       "      <td>ENSMUST00000039174</td>\n",
       "    </tr>\n",
       "    <tr>\n",
       "      <th>3</th>\n",
       "      <td>802336</td>\n",
       "      <td>241</td>\n",
       "      <td>4892.742188</td>\n",
       "      <td>192.105209</td>\n",
       "      <td>0.0</td>\n",
       "      <td>855.170471</td>\n",
       "      <td>1778.751831</td>\n",
       "      <td>0</td>\n",
       "      <td>Cxcr3</td>\n",
       "      <td>ENSMUST00000056614</td>\n",
       "    </tr>\n",
       "    <tr>\n",
       "      <th>4</th>\n",
       "      <td>805053</td>\n",
       "      <td>241</td>\n",
       "      <td>4972.506836</td>\n",
       "      <td>186.719177</td>\n",
       "      <td>3.0</td>\n",
       "      <td>1593.731567</td>\n",
       "      <td>1728.881226</td>\n",
       "      <td>0</td>\n",
       "      <td>Cxcr3</td>\n",
       "      <td>ENSMUST00000056614</td>\n",
       "    </tr>\n",
       "    <tr>\n",
       "      <th>...</th>\n",
       "      <td>...</td>\n",
       "      <td>...</td>\n",
       "      <td>...</td>\n",
       "      <td>...</td>\n",
       "      <td>...</td>\n",
       "      <td>...</td>\n",
       "      <td>...</td>\n",
       "      <td>...</td>\n",
       "      <td>...</td>\n",
       "      <td>...</td>\n",
       "    </tr>\n",
       "    <tr>\n",
       "      <th>260479</th>\n",
       "      <td>724991</td>\n",
       "      <td>221</td>\n",
       "      <td>2836.630859</td>\n",
       "      <td>9747.528320</td>\n",
       "      <td>0.0</td>\n",
       "      <td>337.099091</td>\n",
       "      <td>1358.897705</td>\n",
       "      <td>1467</td>\n",
       "      <td>Cd74</td>\n",
       "      <td>ENSMUST00000050487</td>\n",
       "    </tr>\n",
       "    <tr>\n",
       "      <th>260480</th>\n",
       "      <td>977945</td>\n",
       "      <td>298</td>\n",
       "      <td>2926.006836</td>\n",
       "      <td>9729.467773</td>\n",
       "      <td>0.0</td>\n",
       "      <td>1164.655518</td>\n",
       "      <td>1191.672241</td>\n",
       "      <td>1467</td>\n",
       "      <td>Arnt</td>\n",
       "      <td>ENSMUST00000090804</td>\n",
       "    </tr>\n",
       "    <tr>\n",
       "      <th>260481</th>\n",
       "      <td>1454933</td>\n",
       "      <td>435</td>\n",
       "      <td>2815.286865</td>\n",
       "      <td>9769.478516</td>\n",
       "      <td>0.0</td>\n",
       "      <td>139.470963</td>\n",
       "      <td>1562.134277</td>\n",
       "      <td>1467</td>\n",
       "      <td>Aldh18a1</td>\n",
       "      <td>ENSMUST00000176939</td>\n",
       "    </tr>\n",
       "    <tr>\n",
       "      <th>260482</th>\n",
       "      <td>1577062</td>\n",
       "      <td>477</td>\n",
       "      <td>2966.376953</td>\n",
       "      <td>9744.248047</td>\n",
       "      <td>0.0</td>\n",
       "      <td>1538.451660</td>\n",
       "      <td>1328.524292</td>\n",
       "      <td>1467</td>\n",
       "      <td>Hmgcs1</td>\n",
       "      <td>ENSMUST00000224188</td>\n",
       "    </tr>\n",
       "    <tr>\n",
       "      <th>260483</th>\n",
       "      <td>1706449</td>\n",
       "      <td>511</td>\n",
       "      <td>2883.143311</td>\n",
       "      <td>9709.230469</td>\n",
       "      <td>0.0</td>\n",
       "      <td>767.769409</td>\n",
       "      <td>1004.289124</td>\n",
       "      <td>1467</td>\n",
       "      <td>Blank-17</td>\n",
       "      <td>-1</td>\n",
       "    </tr>\n",
       "  </tbody>\n",
       "</table>\n",
       "<p>260484 rows × 10 columns</p>\n",
       "</div>"
      ],
      "text/plain": [
       "        Unnamed: 0  barcode_id     global_x     global_y  global_z  \\\n",
       "0            76052          29  4811.931152   133.306046       1.0   \n",
       "1           578964         170  4873.683594   128.109299       3.0   \n",
       "2           663018         194  4963.922363   117.802322       0.0   \n",
       "3           802336         241  4892.742188   192.105209       0.0   \n",
       "4           805053         241  4972.506836   186.719177       3.0   \n",
       "...            ...         ...          ...          ...       ...   \n",
       "260479      724991         221  2836.630859  9747.528320       0.0   \n",
       "260480      977945         298  2926.006836  9729.467773       0.0   \n",
       "260481     1454933         435  2815.286865  9769.478516       0.0   \n",
       "260482     1577062         477  2966.376953  9744.248047       0.0   \n",
       "260483     1706449         511  2883.143311  9709.230469       0.0   \n",
       "\n",
       "                  x            y   fov      gene       transcript_id  \n",
       "0        106.918274  1234.315186     0      Ctcf  ENSMUST00000005841  \n",
       "1        678.702148  1186.197266     0      Ets1  ENSMUST00000034534  \n",
       "2       1514.247681  1090.762207     0     Prdm1  ENSMUST00000039174  \n",
       "3        855.170471  1778.751831     0     Cxcr3  ENSMUST00000056614  \n",
       "4       1593.731567  1728.881226     0     Cxcr3  ENSMUST00000056614  \n",
       "...             ...          ...   ...       ...                 ...  \n",
       "260479   337.099091  1358.897705  1467      Cd74  ENSMUST00000050487  \n",
       "260480  1164.655518  1191.672241  1467      Arnt  ENSMUST00000090804  \n",
       "260481   139.470963  1562.134277  1467  Aldh18a1  ENSMUST00000176939  \n",
       "260482  1538.451660  1328.524292  1467    Hmgcs1  ENSMUST00000224188  \n",
       "260483   767.769409  1004.289124  1467  Blank-17                  -1  \n",
       "\n",
       "[260484 rows x 10 columns]"
      ]
     },
     "metadata": {},
     "output_type": "display_data"
    }
   ],
   "source": [
    "transcripts = pd.read_csv(\"../auxiliary/all_transcripts.csv\")\n",
    "transcripts"
   ]
  },
  {
   "cell_type": "code",
   "execution_count": null,
   "id": "55c60d2e-c28b-43bf-b727-ed9ac999fb65",
   "metadata": {},
   "outputs": [],
   "source": [
    "# diagnoal of the matrix for scaling\n",
    "# np.diag(mmpt)"
   ]
  },
  {
   "cell_type": "code",
   "execution_count": null,
   "id": "73b0530d-96af-4a8c-ac8b-0eb934a16a43",
   "metadata": {},
   "outputs": [],
   "source": [
    "# third col for offset,\n",
    "# but the dont want to add a value to the z axis...\n",
    "# np.append(mmpt[0:2,2], 0)"
   ]
  },
  {
   "cell_type": "markdown",
   "id": "18461577-afbe-4192-952a-a88a3d403226",
   "metadata": {},
   "source": [
    "Let's test if it works with a few selected rows"
   ]
  },
  {
   "cell_type": "code",
   "execution_count": null,
   "id": "6ee9c0bd-f2d4-42c2-81b0-dca96bf62740",
   "metadata": {},
   "outputs": [],
   "source": [
    "# from numpy.linalg import inv\n",
    "# idx = np.arange(0,20)\n",
    "# points = np.array([\n",
    "#     transcripts.global_x[idx], \n",
    "#     transcripts.global_y[idx], \n",
    "#     transcripts.global_z[idx]]\n",
    "# )\n",
    "# points = np.round(np.diag(mmpt) * points.T + np.append(mmpt[0:2,2], 0)).astype(int)\n",
    "# points"
   ]
  },
  {
   "cell_type": "markdown",
   "id": "bd230f19-e9e5-4ad4-8f01-9d9f8fd2b0e2",
   "metadata": {},
   "source": [
    "It seems to be working. So lets comment all the cells above and warp everyting into a function"
   ]
  },
  {
   "cell_type": "code",
   "execution_count": null,
   "id": "098a773f-6288-4c57-a5f3-834dd750d35b",
   "metadata": {},
   "outputs": [
    {
     "data": {
      "text/plain": [
       "<function __main__.create_rescaling_function.<locals>.rescale_fun(x, y, z)>"
      ]
     },
     "metadata": {},
     "output_type": "display_data"
    }
   ],
   "source": [
    "def create_rescaling_function():\n",
    "    \"\"\"\n",
    "    Here we create a rescaling function that takes three argument: x, y, z.\n",
    "    These are the coordinates of out point. We will apply the transformation\n",
    "    defined in 'micron_to_mosaic_pixel_transform' to convert the micron to pixel\n",
    "    and then rescale it with the same scaling factor used in script '01'\n",
    "    \"\"\"\n",
    "    # the get the size of the original image, we can take any of the images\n",
    "    # they are all the same size\n",
    "    size_original_image = tifffile.imread(\"../Merlin_output/images/mosaic_Cellbound2_z0.tif\").shape\n",
    "    \n",
    "    # rescaled image\n",
    "    size_rescaled_image = tifffile.imread(\"image/full_stack.tif\").shape\n",
    "    # since this is the stacked image, we dont need to keep all dimensions.\n",
    "    size_rescaled_image = size_rescaled_image[2:4]\n",
    "    \n",
    "    scale_y = size_original_image[0] / size_rescaled_image[0]\n",
    "    scale_x = size_original_image[1] / size_rescaled_image[1]\n",
    "    rescale = np.array([scale_x, scale_y, 1])\n",
    "    \n",
    "    \n",
    "    mmpt = pd.read_csv(\n",
    "        \"../Merlin_output/images/micron_to_mosaic_pixel_transform.csv\", \n",
    "        header=None, \n",
    "        sep=' '\n",
    "    )\n",
    "    mmpt = np.array(mmpt)\n",
    "\n",
    "    def rescale_fun(x,y,z):\n",
    "        points = np.array([x,y,z])\n",
    "        # coordinates to pixel\n",
    "        points = np.diag(mmpt) * points.T + np.append(mmpt[0:2,2], 0)\n",
    "        # apply our scaling\n",
    "        points = points / rescale\n",
    "        return(points.T)\n",
    "    \n",
    "    return(rescale_fun)\n",
    "rescale_fun = create_rescaling_function()\n",
    "rescale_fun"
   ]
  },
  {
   "cell_type": "markdown",
   "id": "3b03aa81-9a33-4a5e-accb-2b0220fbedd8",
   "metadata": {},
   "source": [
    "There are a few **Blank** genes that we can remove. We do NOT want to use those for cell segmentation"
   ]
  },
  {
   "cell_type": "code",
   "execution_count": 9,
   "id": "2a85067c-f1c3-449f-9c35-14bea435368e",
   "metadata": {},
   "outputs": [],
   "source": [
    "transcripts = transcripts[~transcripts['gene'].str.startswith(\"Blank\")].copy()"
   ]
  },
  {
   "cell_type": "code",
   "execution_count": null,
   "id": "c15c1c8e-8dcf-4319-9f0d-a70e2a4444ee",
   "metadata": {},
   "outputs": [
    {
     "data": {
      "text/plain": [
       "array([[14852, 15042, 15321, ...,  8689,  9156,  8899],\n",
       "       [  411,   395,   364, ..., 30153, 30075, 29967],\n",
       "       [    1,     3,     0, ...,     0,     0,     0]])"
      ]
     },
     "metadata": {},
     "output_type": "display_data"
    }
   ],
   "source": [
    "points = rescale_fun(transcripts.global_x, transcripts.global_y, transcripts.global_z)\n",
    "# round to integer that we can use it with the cell segmentation mask\n",
    "points = np.round(points).astype(int)\n",
    "points"
   ]
  },
  {
   "cell_type": "markdown",
   "id": "9dae7817-fa08-4e0f-9a00-6d1dbb6263b7",
   "metadata": {},
   "source": [
    "Next, we can import the segmentation mask from the previous script."
   ]
  },
  {
   "cell_type": "code",
   "execution_count": 10,
   "id": "825eb17d-038f-4a49-934e-dc4e75a82672",
   "metadata": {},
   "outputs": [],
   "source": [
    "masks = np.load(\"cellpose_segmentation/masks.npy\")"
   ]
  },
  {
   "attachments": {},
   "cell_type": "markdown",
   "id": "630b09a4-67d6-4cf1-bfda-8a4c24d8e1e3",
   "metadata": {},
   "source": [
    "And we can add the cellpose_segmentation to the dataframe."
   ]
  },
  {
   "cell_type": "code",
   "execution_count": 11,
   "id": "6f8f05e6-8575-4a7d-8bf8-991fc3e2782d",
   "metadata": {},
   "outputs": [],
   "source": [
    "transcripts['mask'] = masks[\n",
    "  tuple(points[[2,1,0]])\n",
    "]"
   ]
  },
  {
   "cell_type": "code",
   "execution_count": 12,
   "id": "a2dcf4d5-93d6-4257-8216-3ad4ea0ddf65",
   "metadata": {},
   "outputs": [
    {
     "data": {
      "text/html": [
       "<div>\n",
       "<style scoped>\n",
       "    .dataframe tbody tr th:only-of-type {\n",
       "        vertical-align: middle;\n",
       "    }\n",
       "\n",
       "    .dataframe tbody tr th {\n",
       "        vertical-align: top;\n",
       "    }\n",
       "\n",
       "    .dataframe thead th {\n",
       "        text-align: right;\n",
       "    }\n",
       "</style>\n",
       "<table border=\"1\" class=\"dataframe\">\n",
       "  <thead>\n",
       "    <tr style=\"text-align: right;\">\n",
       "      <th></th>\n",
       "      <th>global_x</th>\n",
       "      <th>global_y</th>\n",
       "      <th>global_z</th>\n",
       "      <th>gene</th>\n",
       "      <th>mask</th>\n",
       "    </tr>\n",
       "  </thead>\n",
       "  <tbody>\n",
       "    <tr>\n",
       "      <th>0</th>\n",
       "      <td>3822.614000</td>\n",
       "      <td>134.603240</td>\n",
       "      <td>4.0</td>\n",
       "      <td>Pycr1</td>\n",
       "      <td>0</td>\n",
       "    </tr>\n",
       "    <tr>\n",
       "      <th>1</th>\n",
       "      <td>3865.508500</td>\n",
       "      <td>89.455734</td>\n",
       "      <td>5.0</td>\n",
       "      <td>Slc7a11</td>\n",
       "      <td>0</td>\n",
       "    </tr>\n",
       "    <tr>\n",
       "      <th>2</th>\n",
       "      <td>3972.906500</td>\n",
       "      <td>163.452200</td>\n",
       "      <td>6.0</td>\n",
       "      <td>Cxcr3</td>\n",
       "      <td>0</td>\n",
       "    </tr>\n",
       "    <tr>\n",
       "      <th>3</th>\n",
       "      <td>3968.895800</td>\n",
       "      <td>33.911680</td>\n",
       "      <td>0.0</td>\n",
       "      <td>Ldhb</td>\n",
       "      <td>0</td>\n",
       "    </tr>\n",
       "    <tr>\n",
       "      <th>5</th>\n",
       "      <td>3664.242700</td>\n",
       "      <td>184.795300</td>\n",
       "      <td>4.0</td>\n",
       "      <td>Slc2a2</td>\n",
       "      <td>0</td>\n",
       "    </tr>\n",
       "    <tr>\n",
       "      <th>...</th>\n",
       "      <td>...</td>\n",
       "      <td>...</td>\n",
       "      <td>...</td>\n",
       "      <td>...</td>\n",
       "      <td>...</td>\n",
       "    </tr>\n",
       "    <tr>\n",
       "      <th>17812303</th>\n",
       "      <td>3266.297176</td>\n",
       "      <td>6421.473477</td>\n",
       "      <td>6.0</td>\n",
       "      <td>B2m</td>\n",
       "      <td>0</td>\n",
       "    </tr>\n",
       "    <tr>\n",
       "      <th>17812304</th>\n",
       "      <td>3499.033270</td>\n",
       "      <td>6353.866514</td>\n",
       "      <td>6.0</td>\n",
       "      <td>B2m</td>\n",
       "      <td>136929</td>\n",
       "    </tr>\n",
       "    <tr>\n",
       "      <th>17812305</th>\n",
       "      <td>3502.489212</td>\n",
       "      <td>6355.486490</td>\n",
       "      <td>6.0</td>\n",
       "      <td>B2m</td>\n",
       "      <td>54100</td>\n",
       "    </tr>\n",
       "    <tr>\n",
       "      <th>17812306</th>\n",
       "      <td>3848.083411</td>\n",
       "      <td>6330.754869</td>\n",
       "      <td>6.0</td>\n",
       "      <td>B2m</td>\n",
       "      <td>0</td>\n",
       "    </tr>\n",
       "    <tr>\n",
       "      <th>17812307</th>\n",
       "      <td>3905.538447</td>\n",
       "      <td>6375.466183</td>\n",
       "      <td>6.0</td>\n",
       "      <td>B2m</td>\n",
       "      <td>98745</td>\n",
       "    </tr>\n",
       "  </tbody>\n",
       "</table>\n",
       "<p>17720905 rows × 5 columns</p>\n",
       "</div>"
      ],
      "text/plain": [
       "             global_x     global_y  global_z     gene    mask\n",
       "0         3822.614000   134.603240       4.0    Pycr1       0\n",
       "1         3865.508500    89.455734       5.0  Slc7a11       0\n",
       "2         3972.906500   163.452200       6.0    Cxcr3       0\n",
       "3         3968.895800    33.911680       0.0     Ldhb       0\n",
       "5         3664.242700   184.795300       4.0   Slc2a2       0\n",
       "...               ...          ...       ...      ...     ...\n",
       "17812303  3266.297176  6421.473477       6.0      B2m       0\n",
       "17812304  3499.033270  6353.866514       6.0      B2m  136929\n",
       "17812305  3502.489212  6355.486490       6.0      B2m   54100\n",
       "17812306  3848.083411  6330.754869       6.0      B2m       0\n",
       "17812307  3905.538447  6375.466183       6.0      B2m   98745\n",
       "\n",
       "[17720905 rows x 5 columns]"
      ]
     },
     "execution_count": 12,
     "metadata": {},
     "output_type": "execute_result"
    }
   ],
   "source": [
    "transcripts"
   ]
  },
  {
   "cell_type": "markdown",
   "id": "48864f5d-2396-4157-84fa-ec4f5602d07b",
   "metadata": {},
   "source": [
    "Lets see how many transcripts are in a cell. "
   ]
  },
  {
   "cell_type": "code",
   "execution_count": 13,
   "id": "a43a1d03-cd58-4620-a624-55998a3c1ffd",
   "metadata": {},
   "outputs": [
    {
     "data": {
      "text/plain": [
       "0.44092432073869814"
      ]
     },
     "execution_count": 13,
     "metadata": {},
     "output_type": "execute_result"
    }
   ],
   "source": [
    "np.sum(transcripts['mask'] > 0) / transcripts.shape[0]"
   ]
  },
  {
   "cell_type": "markdown",
   "id": "b99dece5-7939-4674-9522-c8050fb60de5",
   "metadata": {},
   "source": [
    "We can now save the new transcripts.csv file and use that as an input for baysor"
   ]
  },
  {
   "cell_type": "code",
   "execution_count": 14,
   "id": "86a6acb0-77eb-4b49-8575-500bc24b9f61",
   "metadata": {},
   "outputs": [],
   "source": [
    "transcripts.to_csv(\"cellpose_segmentation/transcripts.csv\")"
   ]
  },
  {
   "cell_type": "code",
   "execution_count": 15,
   "id": "4c5e0f35-a2b0-4cdf-b837-31373eed7e44",
   "metadata": {},
   "outputs": [
    {
     "data": {
      "text/plain": [
       "137024"
      ]
     },
     "execution_count": 15,
     "metadata": {},
     "output_type": "execute_result"
    }
   ],
   "source": [
    "np.max(masks)"
   ]
  },
  {
   "cell_type": "code",
   "execution_count": null,
   "id": "1457ee09-f597-4019-8746-670b70365c4f",
   "metadata": {},
   "outputs": [],
   "source": []
  }
 ],
 "metadata": {
  "kernelspec": {
   "display_name": "Python 3 (ipykernel)",
   "language": "python",
   "name": "python3"
  },
  "language_info": {
   "codemirror_mode": {
    "name": "ipython",
    "version": 3
   },
   "file_extension": ".py",
   "mimetype": "text/x-python",
   "name": "python",
   "nbconvert_exporter": "python",
   "pygments_lexer": "ipython3",
   "version": "3.9.10"
  }
 },
 "nbformat": 4,
 "nbformat_minor": 5
}
