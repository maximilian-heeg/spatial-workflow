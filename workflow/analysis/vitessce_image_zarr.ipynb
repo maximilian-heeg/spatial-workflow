{
 "cells": [
  {
   "cell_type": "raw",
   "metadata": {},
   "source": [
    "---\n",
    "title: Image OME-TIFF export\n",
    "description: \"Export the images for the Vitessce browser\"\n",
    "order: 4\n",
    "output-file: image_ome\n",
    "date: last-modified\n",
    "author: Maximilian Heeg\n",
    "---"
   ]
  },
  {
   "cell_type": "code",
   "execution_count": 10,
   "metadata": {},
   "outputs": [],
   "source": [
    "import zarr\n",
    "import os\n",
    "import shutil\n",
    "import numpy as np\n",
    "import pandas as pd\n",
    "import skimage.io\n",
    "from PIL import Image\n",
    "from skimage.transform import rescale\n",
    "from ome_zarr.io import parse_url\n",
    "from ome_zarr.writer import write_image\n",
    "from skimage import util\n"
   ]
  },
  {
   "cell_type": "code",
   "execution_count": 11,
   "metadata": {},
   "outputs": [],
   "source": [
    "img = skimage.io.imread(f\"../01_cell_segmentation/full_stack_vitessce.tif\")"
   ]
  },
  {
   "cell_type": "code",
   "execution_count": 12,
   "metadata": {},
   "outputs": [
    {
     "data": {
      "text/plain": [
       "(5, 21673, 19821)"
      ]
     },
     "execution_count": 12,
     "metadata": {},
     "output_type": "execute_result"
    }
   ],
   "source": [
    "img.shape"
   ]
  },
  {
   "cell_type": "code",
   "execution_count": 13,
   "metadata": {},
   "outputs": [],
   "source": [
    "scale = 3.0865\n",
    "#img = img[:, ::2, ::2]\n",
    "\n",
    "#img = rescale(img, 1/(scale/2), channel_axis=0)"
   ]
  },
  {
   "cell_type": "code",
   "execution_count": 14,
   "metadata": {},
   "outputs": [
    {
     "data": {
      "text/plain": [
       "array([[[0, 0, 0, ..., 0, 0, 0],\n",
       "        [0, 0, 0, ..., 0, 0, 0],\n",
       "        [0, 0, 0, ..., 0, 0, 0],\n",
       "        ...,\n",
       "        [0, 0, 0, ..., 0, 0, 0],\n",
       "        [0, 0, 0, ..., 0, 0, 0],\n",
       "        [0, 0, 0, ..., 0, 0, 0]],\n",
       "\n",
       "       [[0, 0, 0, ..., 0, 0, 0],\n",
       "        [0, 0, 0, ..., 0, 0, 0],\n",
       "        [0, 0, 0, ..., 0, 0, 0],\n",
       "        ...,\n",
       "        [0, 0, 0, ..., 0, 0, 0],\n",
       "        [0, 0, 0, ..., 0, 0, 0],\n",
       "        [0, 0, 0, ..., 0, 0, 0]],\n",
       "\n",
       "       [[0, 0, 0, ..., 0, 0, 0],\n",
       "        [0, 0, 0, ..., 0, 0, 0],\n",
       "        [0, 0, 0, ..., 0, 0, 0],\n",
       "        ...,\n",
       "        [0, 0, 0, ..., 0, 0, 0],\n",
       "        [0, 0, 0, ..., 0, 0, 0],\n",
       "        [0, 0, 0, ..., 0, 0, 0]],\n",
       "\n",
       "       [[0, 0, 0, ..., 0, 0, 0],\n",
       "        [0, 0, 0, ..., 0, 0, 0],\n",
       "        [0, 0, 0, ..., 0, 0, 0],\n",
       "        ...,\n",
       "        [0, 0, 0, ..., 0, 0, 0],\n",
       "        [0, 0, 0, ..., 0, 0, 0],\n",
       "        [0, 0, 0, ..., 0, 0, 0]],\n",
       "\n",
       "       [[0, 0, 0, ..., 0, 0, 0],\n",
       "        [0, 0, 0, ..., 0, 0, 0],\n",
       "        [0, 0, 0, ..., 0, 0, 0],\n",
       "        ...,\n",
       "        [0, 0, 0, ..., 0, 0, 0],\n",
       "        [0, 0, 0, ..., 0, 0, 0],\n",
       "        [0, 0, 0, ..., 0, 0, 0]]], dtype=uint8)"
      ]
     },
     "execution_count": 14,
     "metadata": {},
     "output_type": "execute_result"
    }
   ],
   "source": [
    "img"
   ]
  },
  {
   "cell_type": "code",
   "execution_count": 15,
   "metadata": {},
   "outputs": [
    {
     "data": {
      "text/plain": [
       "(5, 21673, 19821)"
      ]
     },
     "execution_count": 15,
     "metadata": {},
     "output_type": "execute_result"
    }
   ],
   "source": [
    "img.shape"
   ]
  },
  {
   "cell_type": "code",
   "execution_count": 16,
   "metadata": {},
   "outputs": [],
   "source": [
    "default_window = {\n",
    "      \"start\": 0,\n",
    "      \"min\": 0,\n",
    "      \"max\": 256,\n",
    "      \"end\": 100\n",
    "}\n"
   ]
  },
  {
   "cell_type": "code",
   "execution_count": 19,
   "metadata": {},
   "outputs": [],
   "source": [
    "path = \"/home/max/Desktop/vitesse/data/image.ome.zarr\"\n",
    "if os.path.exists(path) and os.path.isdir(path):\n",
    "    shutil.rmtree(path)\n",
    "os.mkdir(path)\n",
    "store = parse_url(path, mode=\"w\").store\n",
    "root = zarr.group(store=store)\n",
    "write_image(image=img, group=root, axes=\"cyx\", storage_options=dict(chunks=(1, 1024, 1024)))\n",
    "# optional rendering settings\n",
    "root.attrs[\"omero\"] = {\n",
    "    \"id\": 1,\n",
    "    \"name\": 'Images',\n",
    "    \"version\": 0.01,\n",
    "    \"rdefs\": {\n",
    "    },      \n",
    "    \"channels\": [\n",
    "        {\n",
    "            \"active\": False,\n",
    "            \"coefficient\": 1.0,\n",
    "            \"color\": \"88FF00\",\n",
    "            \"family\": \"linear\",\n",
    "            \"inverted\": False,\n",
    "            \"label\": \"Cellboundary 1\",\n",
    "            \"window\": default_window\n",
    "        },\n",
    "        {\n",
    "            \"active\": True,\n",
    "            \"coefficient\": 1.0,\n",
    "            \"color\": \"FFFF00\",\n",
    "            \"family\": \"linear\",\n",
    "            \"inverted\": False,\n",
    "            \"label\": \"Cellboundary 2\",\n",
    "            \"window\": default_window\n",
    "        },\n",
    "        {\n",
    "            \"active\": False,\n",
    "            \"coefficient\": 1.0,\n",
    "            \"color\": \"AE21FF\",\n",
    "            \"family\": \"linear\",\n",
    "            \"inverted\": False,\n",
    "            \"label\": \"Cellboundary 3\",\n",
    "            \"window\": default_window\n",
    "        },\n",
    "        {\n",
    "            \"active\": True,\n",
    "            \"coefficient\": 1.0,\n",
    "            \"color\": \"0000FF\",\n",
    "            \"family\": \"linear\",\n",
    "            \"inverted\": False,\n",
    "            \"label\": \"poly T\",\n",
    "            \"window\": default_window\n",
    "        },\n",
    "        {\n",
    "            \"active\": False,\n",
    "            \"coefficient\": 1.0,\n",
    "            \"color\": \"0000FF\",\n",
    "            \"family\": \"linear\",\n",
    "            \"inverted\": False,\n",
    "            \"label\": \"DAPI\",\n",
    "            \"window\": default_window\n",
    "        }\n",
    "    ],\n",
    "}"
   ]
  },
  {
   "cell_type": "markdown",
   "metadata": {},
   "source": [
    "For some reason, the .zattrs files needs to be adapted:\n",
    "\n",
    "\"axes\": [\n",
    "                 \"c\",\n",
    "                \"y\",\n",
    "                \"x\"\n",
    "            ],"
   ]
  }
 ],
 "metadata": {
  "kernelspec": {
   "display_name": "Python 3.9.10 ('scanpy')",
   "language": "python",
   "name": "python3"
  },
  "language_info": {
   "codemirror_mode": {
    "name": "ipython",
    "version": 3
   },
   "file_extension": ".py",
   "mimetype": "text/x-python",
   "name": "python",
   "nbconvert_exporter": "python",
   "pygments_lexer": "ipython3",
   "version": "3.9.10"
  },
  "orig_nbformat": 4,
  "vscode": {
   "interpreter": {
    "hash": "b9a98898c59145cd080f51b3b6ff955dbb5f8508820f7abd9323acdcbdd2086f"
   }
  }
 },
 "nbformat": 4,
 "nbformat_minor": 2
}
